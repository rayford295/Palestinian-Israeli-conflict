{
  "nbformat": 4,
  "nbformat_minor": 0,
  "metadata": {
    "colab": {
      "provenance": []
    },
    "kernelspec": {
      "name": "python3",
      "display_name": "Python 3"
    },
    "language_info": {
      "name": "python"
    }
  },
  "cells": [
    {
      "cell_type": "code",
      "source": [
        "import requests\n",
        "from bs4 import BeautifulSoup\n",
        "import xml.etree.ElementTree as ET\n",
        "import csv\n",
        "\n",
        "# 函数：爬取维基百科页面\n",
        "def scrape_wikipedia_page(url, file_name):\n",
        "    response = requests.get(url)\n",
        "    if response.status_code != 200:\n",
        "        print(f\"请求维基百科页面失败，状态码：{response.status_code}\")\n",
        "        return\n",
        "\n",
        "    soup = BeautifulSoup(response.content, 'html.parser')\n",
        "    elements = soup.find_all(['h1', 'h2', 'h3', 'h4', 'h5', 'h6', 'p'])\n",
        "\n",
        "    with open(file_name, 'w', newline='', encoding='utf-8') as file:\n",
        "        writer = csv.writer(file)\n",
        "        writer.writerow(['Type', 'Content'])\n",
        "\n",
        "        for element in elements:\n",
        "            element_type = element.name\n",
        "            element_content = element.get_text().strip()\n",
        "            writer.writerow([element_type, element_content])\n",
        "\n",
        "    print(f\"维基百科内容已保存到 {file_name}\")\n",
        "\n",
        "# 函数：从Google News RSS feed获取并保存新闻\n",
        "def save_news_to_csv(rss_url, csv_filename):\n",
        "    response = requests.get(rss_url)\n",
        "    if response.status_code != 200:\n",
        "        print(f\"获取Google News数据失败，状态码：{response.status_code}\")\n",
        "        return\n",
        "\n",
        "    root = ET.fromstring(response.content)\n",
        "    news_items = []\n",
        "\n",
        "    for item in root.findall('./channel/item'):\n",
        "        news_dict = {\n",
        "            'title': item.find('title').text,\n",
        "            'link': item.find('link').text,\n",
        "            'pubDate': item.find('pubDate').text\n",
        "        }\n",
        "        news_items.append(news_dict)\n",
        "\n",
        "    with open(csv_filename, 'w', newline='', encoding='utf-8') as file:\n",
        "        writer = csv.DictWriter(file, fieldnames=['title', 'link', 'pubDate'])\n",
        "        writer.writeheader()\n",
        "        writer.writerows(news_items)\n",
        "\n",
        "    print(f\"Google News内容已保存到 {csv_filename}\")\n",
        "\n",
        "# 爬取维基百科页面\n",
        "scrape_wikipedia_page(\n",
        "    \"https://en.wikipedia.org/wiki/Israeli%E2%80%93Palestinian_conflict\",\n",
        "    \"Wikipedia_English_version_of_the_Palestinian-Israeli_conflict_yifan.csv\"\n",
        ")\n",
        "scrape_wikipedia_page(\n",
        "    \"https://zh.wikipedia.org/zh-cn/%E4%BB%A5%E5%B7%B4%E5%86%B2%E7%AA%81\",\n",
        "    \"Wikipedia_Chinese_version_of_the_Palestinian-Israeli_conflict_yifan.csv\"\n",
        ")\n",
        "\n",
        "# 保存Google News RSS feed新闻\n",
        "save_news_to_csv(\n",
        "    'https://news.google.com/rss/search?q=%E5%B7%B4%E4%BB%A5%E5%86%B2%E7%AA%81&hl=zh-CN&gl=CN&ceid=CN:zh-Hans',\n",
        "    'Chinese_version_of_Google_News_crawling_yifan.csv'\n",
        ")\n",
        "save_news_to_csv(\n",
        "    'https://news.google.com/rss/search?q=Israeli-Palestinian+conflict&hl=en-US&gl=US&ceid=US:en',\n",
        "    'English_version_of_Google_News_crawling_yifan.csv'\n",
        ")\n"
      ],
      "metadata": {
        "colab": {
          "base_uri": "https://localhost:8080/"
        },
        "id": "rKbIbaiJvUFC",
        "outputId": "bc0aff33-c8f1-4cfa-a21b-dbf897bd2075"
      },
      "execution_count": 9,
      "outputs": [
        {
          "output_type": "stream",
          "name": "stdout",
          "text": [
            "维基百科内容已保存到 Wikipedia_English_version_of_the_Palestinian-Israeli_conflict_yifan.csv\n",
            "维基百科内容已保存到 Wikipedia_Chinese_version_of_the_Palestinian-Israeli_conflict_yifan.csv\n",
            "Google News内容已保存到 Chinese_version_of_Google_News_crawling_yifan.csv\n",
            "Google News内容已保存到 English_version_of_Google_News_crawling_yifan.csv\n"
          ]
        }
      ]
    }
  ]
}