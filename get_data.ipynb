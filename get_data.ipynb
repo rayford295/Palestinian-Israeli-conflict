{
  "nbformat": 4,
  "nbformat_minor": 0,
  "metadata": {
    "colab": {
      "provenance": []
    },
    "kernelspec": {
      "name": "python3",
      "display_name": "Python 3"
    },
    "language_info": {
      "name": "python"
    }
  },
  "cells": [
    {
      "cell_type": "code",
      "source": [
        "import requests\n",
        "from bs4 import BeautifulSoup\n",
        "import csv\n",
        "\n",
        "def scrape_wikipedia_page(url, file_name):\n",
        "    response = requests.get(url)\n",
        "    if response.status_code != 200:\n",
        "        print(f\"请求失败，状态码：{response.status_code}\")\n",
        "        return\n",
        "\n",
        "    soup = BeautifulSoup(response.content, 'html.parser')\n",
        "\n",
        "    # 找到所有标题和段落\n",
        "    elements = soup.find_all(['h1', 'h2', 'h3', 'h4', 'h5', 'h6', 'p'])\n",
        "\n",
        "    with open(file_name, 'w', newline='', encoding='utf-8') as file:\n",
        "        writer = csv.writer(file)\n",
        "        writer.writerow(['Type', 'Content'])\n",
        "\n",
        "        for element in elements:\n",
        "            element_type = element.name\n",
        "            element_content = element.get_text().strip()\n",
        "            writer.writerow([element_type, element_content])\n",
        "\n",
        "    print(f\"内容已保存到 {file_name}\")\n",
        "\n",
        "# 爬取英文版本的页面\n",
        "scrape_wikipedia_page(\n",
        "    \"https://en.wikipedia.org/wiki/Israeli%E2%80%93Palestinian_conflict\",\n",
        "    \"Wikipedia_English_version_of_the_Palestinian-Israeli_conflict_yifan.csv\"\n",
        ")\n",
        "\n",
        "# 爬取中文版本的页面\n",
        "scrape_wikipedia_page(\n",
        "    \"https://zh.wikipedia.org/wiki/%E4%BB%A5%E5%B7%B4%E5%86%B2%E7%AA%81\",\n",
        "    \"Wikipedia_Chinese_version_of_the_Palestinian-Israeli_conflict_yifan.csv\"\n",
        ")\n"
      ],
      "metadata": {
        "colab": {
          "base_uri": "https://localhost:8080/"
        },
        "id": "l62Ykvebzmzg",
        "outputId": "3f19f55a-ec69-402d-9ef0-926e5a8520cc"
      },
      "execution_count": 14,
      "outputs": [
        {
          "output_type": "stream",
          "name": "stdout",
          "text": [
            "内容已保存到 Wikipedia_English_version_of_the_Palestinian-Israeli_conflict_yifan.csv\n",
            "内容已保存到 Wikipedia_Chinese_version_of_the_Palestinian-Israeli_conflict_yifan.csv\n"
          ]
        }
      ]
    }
  ]
}